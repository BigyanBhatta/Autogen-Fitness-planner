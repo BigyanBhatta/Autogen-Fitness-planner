{
 "cells": [
  {
   "cell_type": "code",
   "execution_count": 114,
   "metadata": {},
   "outputs": [],
   "source": [
    "import os \n",
    "from dotenv import load_dotenv\n",
    "load_dotenv()\n",
    "from autogen import UserProxyAgent, AssistantAgent\n",
    "from autogen.coding import LocalCommandLineCodeExecutor\n",
    "from autogen import GroupChat\n",
    "from autogen import GroupChatManager\n",
    "\n",
    "#llm configuration\n",
    "llm_config = {\"model\": 'gpt-3.5-turbo-0125', 'api_key': os.environ['OPENAI_API_KEY']}\n"
   ]
  },
  {
   "cell_type": "code",
   "execution_count": 116,
   "metadata": {},
   "outputs": [],
   "source": [
    "# executor = LocalCommandLineCodeExecutor(\n",
    "#     timeout=60,\n",
    "#     work_dir=\"content/current\","
   ]
  },
  {
   "cell_type": "code",
   "execution_count": 117,
   "metadata": {},
   "outputs": [],
   "source": [
    "def human_input_mode(msg):\n",
    "    return msg.get(\"content\") is not None and \"TERMINATE\" in msg[\"content\"]\n",
    "try:\n",
    "    user_proxy = UserProxyAgent(\n",
    "        name='user_proxy',\n",
    "        is_termination_msg=human_input_mode,\n",
    "        human_input_mode= \"ALWAYS\",\n",
    "        max_consecutive_auto_reply=5,\n",
    "        code_execution_config= {\n",
    "         \"last_n_messages\": 1,\n",
    "        \"work_dir\": \"tasks\",\n",
    "        \"use_docker\": False,\n",
    "        }\n",
    "    )\n",
    "except KeyError as e:\n",
    "    print(f\"KeyError: {e}\")"
   ]
  },
  {
   "cell_type": "code",
   "execution_count": 118,
   "metadata": {},
   "outputs": [],
   "source": [
    "goal_assessment_agent = AssistantAgent(\n",
    "    'Goal_assessment_agent',\n",
    "    llm_config=llm_config,\n",
    "    system_message= \"\"\"Role:  Assess the user's fitness goals and current fitness level.\n",
    "Responsibilities: \n",
    "Ask limited and relevant questions to determine user goals. Don't ask for too much detail.\n",
    "Evaluate user current fitness level through a series of questions or initial assessments.\n",
    "Example: \"How many days per week can you dedicate to working out?\"\n",
    "\"\"\"\n",
    ")"
   ]
  },
  {
   "cell_type": "code",
   "execution_count": 119,
   "metadata": {},
   "outputs": [],
   "source": [
    "workout_planner_agent = AssistantAgent(\n",
    "    \"Workout_planner\",\n",
    "    llm_config= llm_config,\n",
    "    system_message= \"\"\"Role: Creates personalized workout plans based on user goals and preferences.\n",
    "Responsibilities: \n",
    "Generate workout routines tailored to user goals (e.g., cardio for weight loss, strength training for muscle gain).\n",
    "Adapt plans based on user constraints (e.g., available equipment, workout duration).\n",
    "Example: \"Here's a 4-week workout plan focusing on strength training and cardio.\"\n",
    "\"\"\"\n",
    ")"
   ]
  },
  {
   "cell_type": "code",
   "execution_count": 120,
   "metadata": {},
   "outputs": [],
   "source": [
    "nutritional_guidance_agent = AssistantAgent(\n",
    "    'Nutritionist',\n",
    "    llm_config= llm_config,\n",
    "    system_message= \"\"\"Role: Provides dietary recommendations to complement the workout plan.\n",
    "Responsibilities:\n",
    "Ask the user whether he is a vegetarian or non_veg first.\n",
    "Suggest dietary changes and meal plans that align with fitness goals.\n",
    "Offer tips on nutrition and supplementation.\n",
    "Example: \"Here are some high-protein meal suggestions to support muscle gain.\"\n",
    "\"\"\"\n",
    ")"
   ]
  },
  {
   "cell_type": "code",
   "execution_count": 121,
   "metadata": {},
   "outputs": [],
   "source": [
    "groupchat = GroupChat(\n",
    "    agents=[user_proxy, workout_planner_agent, goal_assessment_agent, nutritional_guidance_agent],\n",
    "    messages=[],\n",
    "    max_round=10,\n",
    ")"
   ]
  },
  {
   "cell_type": "code",
   "execution_count": 122,
   "metadata": {},
   "outputs": [],
   "source": [
    "manager = GroupChatManager(\n",
    "    groupchat=groupchat, llm_config=llm_config\n",
    ")\n"
   ]
  },
  {
   "cell_type": "code",
   "execution_count": 123,
   "metadata": {},
   "outputs": [],
   "source": [
    "# testing "
   ]
  },
  {
   "cell_type": "code",
   "execution_count": 124,
   "metadata": {},
   "outputs": [],
   "source": [
    "# def state_transition(last_speaker, groupchat):\n",
    "#     messages = groupchat.messages\n",
    "\n",
    "#     if last_speaker is goal_assessment_agent:\n",
    "#         # init -> retrieve\n",
    "#         return user_proxy\n",
    "#     if last_speaker is workout_planner_agent:\n",
    "#         return user_proxy\n"
   ]
  },
  {
   "cell_type": "code",
   "execution_count": 125,
   "metadata": {},
   "outputs": [
    {
     "name": "stdout",
     "output_type": "stream",
     "text": [
      "\u001b[33muser_proxy\u001b[0m (to chat_manager):\n",
      "\n",
      "I'm soon joining a Gym and want to lose weight and gain muscle\n",
      "\n",
      "--------------------------------------------------------------------------------\n",
      "\u001b[32m\n",
      "Next speaker: Goal_assessment_agent\n",
      "\u001b[0m\n",
      "\u001b[33mGoal_assessment_agent\u001b[0m (to chat_manager):\n",
      "\n",
      "Great to hear that you're starting at the gym! To better help you achieve your goals, could you please share with me how many days per week you can dedicate to working out? \n",
      "\n",
      "\n",
      "\n",
      "--------------------------------------------------------------------------------\n",
      "\u001b[32m\n",
      "Next speaker: Workout_planner\n",
      "\u001b[0m\n",
      "\u001b[33mWorkout_planner\u001b[0m (to chat_manager):\n",
      "\n",
      "Based on your goal to lose weight and gain muscle, I can create a personalized 4-week workout plan for you. The plan will include a combination of cardio exercises to aid in weight loss and strength training exercises to help you gain muscle. Since you're just starting at the gym, we'll keep things simple and effective. The workout plan will consist of 4 days a week with a focus on full-body workouts to achieve your goals effectively. Does this schedule work for you?\n",
      "\n",
      "\n",
      "\n",
      "--------------------------------------------------------------------------------\n",
      "\u001b[32m\n",
      "Next speaker: Nutritionist\n",
      "\u001b[0m\n",
      "\u001b[33mNutritionist\u001b[0m (to chat_manager):\n",
      "\n",
      "That sounds like a great plan to achieve your goals of losing weight and gaining muscle! In addition to a well-structured workout routine, it's essential to focus on your nutrition to support your fitness goals. Since you're looking to lose weight and gain muscle, here are some dietary recommendations that can complement your workout plan:\n",
      "\n",
      "1. High-protein diet: Include lean protein sources such as chicken, turkey, fish, eggs, Greek yogurt, beans, and legumes in your meals. Protein is crucial for muscle repair and growth.\n",
      "\n",
      "2. Balanced meals: Aim for balanced meals that include a combination of protein, healthy fats, and complex carbohydrates. This will provide you with sustained energy and support your workouts.\n",
      "\n",
      "3. Portion control: Pay attention to portion sizes to ensure you're not overeating. Tracking your food intake can help you stay on track with your weight loss and muscle gain goals.\n",
      "\n",
      "4. Stay hydrated: Drink an adequate amount of water throughout the day to support your metabolism and exercise performance. Hydration is key for overall health and fitness.\n",
      "\n",
      "5. Pre and post-workout nutrition: Consume a combination of protein and carbohydrates before and after your workouts to fuel your sessions and support recovery.\n",
      "\n",
      "Here are some high-protein meal suggestions to support muscle gain and weight loss:\n",
      "\n",
      "- Grilled chicken breast with quinoa and roasted vegetables\n",
      "- Greek yogurt with berries and a sprinkle of nuts\n",
      "- Salmon with sweet potato and steamed broccoli\n",
      "- Lentil salad with mixed greens and a side of hummus\n",
      "- Egg omelet with spinach, tomatoes, and avocado\n",
      "\n",
      "Remember, consistency is key when it comes to seeing progress with your fitness goals. If you have any specific dietary preferences or restrictions, feel free to let me know so I can tailor the recommendations accordingly. Good luck on your fitness journey!\n",
      "\n",
      "\n",
      "\n",
      "--------------------------------------------------------------------------------\n",
      "\u001b[32m\n",
      "Next speaker: user_proxy\n",
      "\u001b[0m\n",
      "\u001b[33muser_proxy\u001b[0m (to chat_manager):\n",
      "\n",
      "The schedule sounds good to me.\n",
      "\n",
      "--------------------------------------------------------------------------------\n",
      "\u001b[32m\n",
      "Next speaker: user_proxy\n",
      "\u001b[0m\n",
      "\u001b[33muser_proxy\u001b[0m (to chat_manager):\n",
      "\n",
      "i can dedicate 3 days per week for workout.\n",
      "\n",
      "--------------------------------------------------------------------------------\n",
      "\u001b[32m\n",
      "Next speaker: Goal_assessment_agent\n",
      "\u001b[0m\n",
      "\u001b[33mGoal_assessment_agent\u001b[0m (to chat_manager):\n",
      "\n",
      "Thank you for sharing that you can dedicate 3 days per week for working out. This information will help in adjusting your workout plan accordingly to fit your schedule while still making progress towards your goals. To get a better understanding of your current fitness level, could you please share if you have any previous experience with structured exercise programs or if you have any physical limitations or injuries that I should be aware of?\n",
      "\n",
      "\n",
      "\n",
      "--------------------------------------------------------------------------------\n",
      "\u001b[32m\n",
      "Next speaker: Nutritionist\n",
      "\u001b[0m\n",
      "\u001b[33mNutritionist\u001b[0m (to chat_manager):\n",
      "\n",
      "Since you can dedicate 3 days per week for working out, we can create a tailored workout plan that maximizes your time in the gym. This plan will focus on full-body workouts to help you achieve your goals of losing weight and gaining muscle effectively. In addition to the workout routine, here are some dietary recommendations to complement your fitness journey:\n",
      "\n",
      "1. Prioritize protein intake: Include protein-rich foods in your meals to support muscle recovery and growth. Good sources of protein include lean meats, poultry, fish, eggs, dairy products, legumes, and tofu.\n",
      "\n",
      "2. Incorporate healthy fats: Include sources of healthy fats such as avocado, nuts, seeds, and olive oil in your diet. These fats are essential for overall health and can help with satiety.\n",
      "\n",
      "3. Fill up on fiber: Include plenty of fruits, vegetables, whole grains, and legumes in your diet to ensure you're getting an adequate amount of fiber. Fiber can help with digestion and keep you feeling full.\n",
      "\n",
      "4. Stay hydrated: Drink enough water throughout the day, especially before and after your workouts, to support hydration and performance.\n",
      "\n",
      "5. Meal timing: Consider having a balanced meal that includes protein and carbohydrates about 2-3 hours before your workout to fuel your session. After your workout, aim to have a meal or snack that includes protein and carbohydrates to support recovery.\n",
      "\n",
      "Here's an example of a meal plan for one day to support your goals:\n",
      "\n",
      "Breakfast: Greek yogurt with berries and almonds\n",
      "Lunch: Grilled chicken salad with mixed greens, veggies, and a vinaigrette dressing\n",
      "Snack: Apple slices with peanut butter\n",
      "Dinner: Baked salmon with quinoa and roasted vegetables\n",
      "\n",
      "Remember, consistency with both your workout routine and nutrition is key to seeing progress. Gradually adjust your meal plan to suit your preferences and dietary needs. Feel free to reach out if you have any specific questions or need further assistance on your fitness journey.\n",
      "\n",
      "\n",
      "\n",
      "--------------------------------------------------------------------------------\n",
      "\u001b[32m\n",
      "Next speaker: user_proxy\n",
      "\u001b[0m\n"
     ]
    }
   ],
   "source": [
    "groupchat_result = user_proxy.initiate_chat(\n",
    "    manager,\n",
    "    message= \"I'm soon joining a Gym and want to lose weight and gain muscle\",\n",
    "    )"
   ]
  },
  {
   "cell_type": "code",
   "execution_count": null,
   "metadata": {},
   "outputs": [],
   "source": []
  }
 ],
 "metadata": {
  "kernelspec": {
   "display_name": "Python 3",
   "language": "python",
   "name": "python3"
  },
  "language_info": {
   "codemirror_mode": {
    "name": "ipython",
    "version": 3
   },
   "file_extension": ".py",
   "mimetype": "text/x-python",
   "name": "python",
   "nbconvert_exporter": "python",
   "pygments_lexer": "ipython3",
   "version": "3.12.0"
  }
 },
 "nbformat": 4,
 "nbformat_minor": 2
}
